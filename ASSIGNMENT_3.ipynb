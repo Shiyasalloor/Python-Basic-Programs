{
  "nbformat": 4,
  "nbformat_minor": 0,
  "metadata": {
    "colab": {
      "provenance": [],
      "authorship_tag": "ABX9TyNDVinfAJCUHQoF70+R9vM1",
      "include_colab_link": true
    },
    "kernelspec": {
      "name": "python3",
      "display_name": "Python 3"
    },
    "language_info": {
      "name": "python"
    }
  },
  "cells": [
    {
      "cell_type": "markdown",
      "metadata": {
        "id": "view-in-github",
        "colab_type": "text"
      },
      "source": [
        "<a href=\"https://colab.research.google.com/github/Shiyasalloor/Python-Basic-Programs/blob/main/ASSIGNMENT_3.ipynb\" target=\"_parent\"><img src=\"https://colab.research.google.com/assets/colab-badge.svg\" alt=\"Open In Colab\"/></a>"
      ]
    },
    {
      "cell_type": "code",
      "execution_count": null,
      "metadata": {
        "colab": {
          "base_uri": "https://localhost:8080/"
        },
        "id": "cO3tU-CNlfLq",
        "outputId": "d278154d-7aeb-473b-ac7f-2abb94170edb"
      },
      "outputs": [
        {
          "output_type": "stream",
          "name": "stdout",
          "text": [
            "enter the no of terms in the seqenuce : 5\n",
            "enter the first terms in the seqenuce : 9\n",
            "enter the common difference in the seqenuce : 3\n",
            "9\n",
            "12\n",
            "15\n",
            "18\n",
            "21\n"
          ]
        }
      ],
      "source": [
        "#Arithmetic seqenuce upto n terms\n",
        "n=int(input(\"enter the no of terms in the seqenuce : \"))\n",
        "a=int(input(\"enter the first terms in the seqenuce : \"))\n",
        "d=int(input(\"enter the common difference in the seqenuce : \"))\n",
        "j=0\n",
        "for i in range (n):\n",
        "  term=a+(j*d)\n",
        "  j=j+1\n",
        "  print(term)"
      ]
    },
    {
      "cell_type": "code",
      "source": [
        "#sum of n natural numbes\n",
        "n=int(input(\"enter the number of natural numbers to add:\"))\n",
        "s=0\n",
        "for i in range(n+1):\n",
        "  s=s+i\n",
        "print(\"sum=\",s)"
      ],
      "metadata": {
        "colab": {
          "base_uri": "https://localhost:8080/"
        },
        "id": "Ignj7juooWY3",
        "outputId": "1af8e0ee-3e47-4459-e9a1-ce849f80fa61"
      },
      "execution_count": null,
      "outputs": [
        {
          "output_type": "stream",
          "name": "stdout",
          "text": [
            "enter the number of natural numbers to add:5\n",
            "sum= 15\n"
          ]
        }
      ]
    },
    {
      "cell_type": "code",
      "source": [
        "#First n odd natural numbers\n",
        "a=int(input(\"enter the number of terms:\"))\n",
        "i=1\n",
        "while i<=(2*a-1):\n",
        "  print(i)\n",
        "  i=i+2"
      ],
      "metadata": {
        "colab": {
          "base_uri": "https://localhost:8080/"
        },
        "id": "VVuERa6lo75K",
        "outputId": "1c86d75c-9028-4662-fd2e-a9a137d3d82e"
      },
      "execution_count": null,
      "outputs": [
        {
          "output_type": "stream",
          "name": "stdout",
          "text": [
            "enter the number of terms:5\n",
            "1\n",
            "3\n",
            "5\n",
            "7\n",
            "9\n"
          ]
        }
      ]
    },
    {
      "cell_type": "code",
      "source": [
        "#Factorial of a given number\n",
        "n=int(input(\"enter a number to find factorial:\"))\n",
        "f=1\n",
        "for i in range (1,n+1):\n",
        "  f=f*i\n",
        "print(\"factorial= \",f)"
      ],
      "metadata": {
        "colab": {
          "base_uri": "https://localhost:8080/"
        },
        "id": "L5xOtzAapbcI",
        "outputId": "a710a47c-fb48-4634-8b49-4c02f416835e"
      },
      "execution_count": null,
      "outputs": [
        {
          "output_type": "stream",
          "name": "stdout",
          "text": [
            "enter a number to find factorial:6\n",
            "factorial=  720\n"
          ]
        }
      ]
    },
    {
      "cell_type": "code",
      "source": [
        "#check whether given number prime or not\n",
        "n=int(input(\"enter the number to check prime:\"))\n",
        "i=2\n",
        "while i<=(n/2):\n",
        "  if n%i==0:\n",
        "    break\n",
        "  else:\n",
        "    i=i+1   \n",
        "if i>(n/2):\n",
        "  print(n,\"is a prime\")\n",
        "else:\n",
        "  print(n,\"is not a prime\") \n"
      ],
      "metadata": {
        "colab": {
          "base_uri": "https://localhost:8080/"
        },
        "id": "gPn-7EGtqGsQ",
        "outputId": "6f1d6921-f140-4c3e-bd1e-5a13cda4f656"
      },
      "execution_count": null,
      "outputs": [
        {
          "output_type": "stream",
          "name": "stdout",
          "text": [
            "enter the number to check prime:11\n",
            "11 is a prime\n"
          ]
        }
      ]
    },
    {
      "cell_type": "code",
      "source": [
        "#Armstrong number\n",
        "q=int(input(\"enter the number to check:\"))\n",
        "f=q\n",
        "i=0\n",
        "s=0\n",
        "while q>0:\n",
        "  q=int(q/10)\n",
        "  i=i+1\n",
        "q=f\n",
        "while q>0:\n",
        "  m=int(q%10)\n",
        "  s=s+m**i\n",
        "  q=int(q/10)\n",
        "if s==f:\n",
        "  print(f,\"is armstrong number\")\n",
        "else:\n",
        "  print(f,\"is not armstrong number\")\n",
        "\n",
        "\n",
        "\n"
      ],
      "metadata": {
        "id": "t2yo5WRUqzTP",
        "colab": {
          "base_uri": "https://localhost:8080/"
        },
        "outputId": "1171a5ce-a915-4f55-eda3-2b50ee97e25e"
      },
      "execution_count": null,
      "outputs": [
        {
          "output_type": "stream",
          "name": "stdout",
          "text": [
            "enter the number to check:153\n",
            "153 is armstrong number\n"
          ]
        }
      ]
    },
    {
      "cell_type": "code",
      "source": [
        "#reverse of a number\n",
        "q=int(input(\"enter the number to reverse :\"))\n",
        "s=0\n",
        "while q>0:\n",
        "  m=int(q%10)\n",
        "  s=(s*10)+m\n",
        "  q=int(q/10)\n",
        "print(\"reversed number=\",s)\n"
      ],
      "metadata": {
        "colab": {
          "base_uri": "https://localhost:8080/"
        },
        "id": "40LzqB-ExohR",
        "outputId": "10447126-fe2e-4c6b-e183-5a61472d10de"
      },
      "execution_count": null,
      "outputs": [
        {
          "output_type": "stream",
          "name": "stdout",
          "text": [
            "enter the number to reverse :9531\n",
            "reversed number= 1359\n"
          ]
        }
      ]
    },
    {
      "cell_type": "code",
      "source": [
        "#check palindrome\n",
        "q=int(input(\"enter the number to reverse :\"))\n",
        "f=q\n",
        "s=0\n",
        "while q>0:\n",
        "  m=int(q%10)\n",
        "  s=(s*10)+m\n",
        "  q=int(q/10)\n",
        "if s==f:\n",
        "  print(f,\"is a palindrome number\")  \n",
        "else:\n",
        "   print(f,\"is not a palindrome number\") "
      ],
      "metadata": {
        "colab": {
          "base_uri": "https://localhost:8080/"
        },
        "id": "bRpD1k1307bW",
        "outputId": "bb60b1a0-b77f-4230-d4b9-2c7f49dc27d8"
      },
      "execution_count": null,
      "outputs": [
        {
          "output_type": "stream",
          "name": "stdout",
          "text": [
            "enter the number to reverse :1991\n",
            "1991 is a palindrome number\n"
          ]
        }
      ]
    },
    {
      "cell_type": "code",
      "source": [
        "#Fibanocci series\n",
        "n=int(input(\"enter the number of terms in series :\"))\n",
        "k=0\n",
        "m=1\n",
        "i=1\n",
        "if n==1:\n",
        "  print(k)\n",
        "elif n==2:\n",
        "  print(k)\n",
        "  print(m)\n",
        "elif n>2:\n",
        "   print(k)\n",
        "   print(m)\n",
        "   while i<(n-1):\n",
        "     s=k+m\n",
        "     print(s)\n",
        "     k=m\n",
        "     m=s\n",
        "     i=i+1\n",
        "else:\n",
        "  print(\"You entered zero or a negative number \")\n",
        "   \n"
      ],
      "metadata": {
        "colab": {
          "base_uri": "https://localhost:8080/"
        },
        "id": "FogTUs9j1nxx",
        "outputId": "c92377b1-9fc2-4dde-e7a0-bbb08f153834"
      },
      "execution_count": null,
      "outputs": [
        {
          "output_type": "stream",
          "name": "stdout",
          "text": [
            "enter the number of terms in series :5\n",
            "0\n",
            "1\n",
            "1\n",
            "2\n",
            "3\n"
          ]
        }
      ]
    },
    {
      "cell_type": "code",
      "source": [
        "#sum of factors of a number\n",
        "n=int(input(\"enter the number:\"))\n",
        "i=1\n",
        "s=0\n",
        "while (i<=n):\n",
        "  if n%i==0:\n",
        "    s=s+i\n",
        "    i=i+1\n",
        "  else:\n",
        "    i=i+1\n",
        "print(\"sum of factors=\",s)\n",
        "\n",
        "\n",
        "  \n"
      ],
      "metadata": {
        "colab": {
          "base_uri": "https://localhost:8080/"
        },
        "id": "yPBngzSa54Gt",
        "outputId": "68d7c1ef-180f-4652-9589-69c5c76a7618"
      },
      "execution_count": null,
      "outputs": [
        {
          "output_type": "stream",
          "name": "stdout",
          "text": [
            "enter the number:6\n",
            "sum of factors= 12\n"
          ]
        }
      ]
    },
    {
      "cell_type": "code",
      "source": [
        "#Check Automorphic\n",
        "n=int(input(\"enter the number to check:\"))\n",
        "i=0\n",
        "m=n\n",
        "sq=m*m\n",
        "while (m>0):\n",
        "  m=int(m/10)\n",
        "  i=i+1\n",
        "if (sq%(10**i)==n):\n",
        "  print(n,\"is an automorphic number\")\n",
        "else:\n",
        "  print(n,\"is not an automorphic number\")\n",
        "\n",
        "\n",
        "\n"
      ],
      "metadata": {
        "id": "r-M6GIDb_FXc",
        "colab": {
          "base_uri": "https://localhost:8080/"
        },
        "outputId": "566fe48d-3e7a-4a68-e918-79dbf14e1f87"
      },
      "execution_count": null,
      "outputs": [
        {
          "output_type": "stream",
          "name": "stdout",
          "text": [
            "enter the number to check:7\n",
            "7 is not an automorphic number\n"
          ]
        }
      ]
    },
    {
      "cell_type": "code",
      "source": [
        "#Binary to decimel\n",
        "print(\"Enter the Binary Number: \")\n",
        "bnum = int(input())\n",
        "\n",
        "dnum = 0\n",
        "i = 1\n",
        "while bnum!=0:\n",
        "    rem = bnum%10\n",
        "    dnum = dnum + (rem*i)\n",
        "    i = i*2\n",
        "    bnum = int(bnum/10)\n",
        "\n",
        "print(\"\\nEquivalent Decimal Value = \", dnum)\n"
      ],
      "metadata": {
        "colab": {
          "base_uri": "https://localhost:8080/"
        },
        "id": "31M0Cnol4TDc",
        "outputId": "812b9ac9-2fc2-4851-a3fb-704cca41e1e8"
      },
      "execution_count": null,
      "outputs": [
        {
          "output_type": "stream",
          "name": "stdout",
          "text": [
            "Enter the Binary Number: \n",
            "1010101010\n",
            "\n",
            "Equivalent Decimal Value =  682\n"
          ]
        }
      ]
    },
    {
      "cell_type": "code",
      "source": [
        "#Sum upto series 1-4+9-16\n",
        "n=int(input(\"enter the no of terms:\"))\n",
        "sum=0\n",
        "for i in range (n+1):\n",
        "  if (i%2==0):\n",
        "    sum=sum-(i*i)\n",
        "  else:\n",
        "    sum=sum+(i*i)\n",
        "print(\"sum of\",n,\"terms=\",sum)\n"
      ],
      "metadata": {
        "id": "HxBUEnBa_rHf",
        "colab": {
          "base_uri": "https://localhost:8080/"
        },
        "outputId": "93469f29-dcf3-4ca8-8dd0-fd1c3709b549"
      },
      "execution_count": null,
      "outputs": [
        {
          "output_type": "stream",
          "name": "stdout",
          "text": [
            "enter the no of terms:5\n",
            "sum of 5 terms= 15\n"
          ]
        }
      ]
    },
    {
      "cell_type": "code",
      "source": [
        "#Square of natural numbers between two numbers\n",
        "a=int(input(\"enter the first number:\"))\n",
        "b=int(input(\"enter the second number:\"))\n",
        "if (a<b):\n",
        "  for i in range (a+1,b):\n",
        "    s=i*i\n",
        "    print(s)\n",
        "elif(b<a):\n",
        "  for i in range (b+1,a):\n",
        "    s=i*i\n",
        "    print(s)\n",
        "else:\n",
        "  print(\"there is no number between\",a,\"and\",b)    \n",
        "\n"
      ],
      "metadata": {
        "colab": {
          "base_uri": "https://localhost:8080/"
        },
        "id": "I8R7yv8GQ1dp",
        "outputId": "c4b48903-146b-477c-82bc-2b012de339bd"
      },
      "execution_count": null,
      "outputs": [
        {
          "output_type": "stream",
          "name": "stdout",
          "text": [
            "enter the first number:5\n",
            "enter the second number:10\n",
            "36\n",
            "49\n",
            "64\n",
            "81\n"
          ]
        }
      ]
    },
    {
      "cell_type": "code",
      "source": [
        "#Find x^n\n",
        "x=int(input(\"enter the base:\"))\n",
        "n=int(input(\"enter the power:\"))\n",
        "for i in range (n+1):\n",
        "  value=x**i\n",
        "print(\"x^n = \",value)\n"
      ],
      "metadata": {
        "colab": {
          "base_uri": "https://localhost:8080/"
        },
        "id": "46jf0a3ET2xI",
        "outputId": "f1dc571d-a21e-4aeb-ea8e-67870a9c2c04"
      },
      "execution_count": null,
      "outputs": [
        {
          "output_type": "stream",
          "name": "stdout",
          "text": [
            "enter the base:5\n",
            "enter the power:3\n",
            "x^n =  125\n"
          ]
        }
      ]
    },
    {
      "cell_type": "code",
      "source": [
        "#GCD of two numbers\n",
        "a=int(input(\"enter the first number:\"))\n",
        "b=int(input(\"enter the second number:\"))\n",
        "gcd=1\n",
        "if (a>b):\n",
        "  for i in range(1,((a//2)+1)):\n",
        "    if(a%i==0 and b%i==0):\n",
        "      gcd=i\n",
        "else:\n",
        "  for i in range(1,((b//2)+1)):\n",
        "    if(a%i==0 and b%i==0):\n",
        "      gcd=i\n",
        "print(\"greatest common differerence of\",a,\"and\",b,\"=\",gcd)\n",
        "\n",
        "\n",
        "\n"
      ],
      "metadata": {
        "colab": {
          "base_uri": "https://localhost:8080/"
        },
        "id": "TokE7fZ1aDrR",
        "outputId": "a918b46a-c004-445b-b6fc-4aef9d92d1c9"
      },
      "execution_count": null,
      "outputs": [
        {
          "output_type": "stream",
          "name": "stdout",
          "text": [
            "enter the first number:12\n",
            "enter the second number:24\n",
            "greatest common differerence of 12 and 24 = 12\n"
          ]
        }
      ]
    }
  ]
}