{
  "cells": [
    {
      "cell_type": "markdown",
      "metadata": {
        "id": "view-in-github",
        "colab_type": "text"
      },
      "source": [
        "<a href=\"https://colab.research.google.com/github/Shiyasalloor/Python-Basic-Programs/blob/main/ASSIGNMENT_2.ipynb\" target=\"_parent\"><img src=\"https://colab.research.google.com/assets/colab-badge.svg\" alt=\"Open In Colab\"/></a>"
      ]
    },
    {
      "cell_type": "code",
      "execution_count": null,
      "metadata": {
        "colab": {
          "base_uri": "https://localhost:8080/"
        },
        "id": "ayp1BvxEE3ou",
        "outputId": "80032cc7-2817-4077-d470-0955d0f43a07"
      },
      "outputs": [
        {
          "name": "stdout",
          "output_type": "stream",
          "text": [
            "enter the first number:9\n",
            "enter the second number:3\n",
            "9 is divisible by 3\n"
          ]
        }
      ],
      "source": [
        "#A nomber divisible by another\n",
        "a=int(input(\"enter the first number:\"))\n",
        "b=int(input(\"enter the second number:\"))\n",
        "if a%b==0:\n",
        "  print(a,\"is divisible by\",b)\n",
        "elif b%a==0:\n",
        "  print(b,\"is divisible by\",a)\n",
        "else:\n",
        "  print(\"there is no multiples\")"
      ]
    },
    {
      "cell_type": "code",
      "execution_count": null,
      "metadata": {
        "colab": {
          "base_uri": "https://localhost:8080/"
        },
        "id": "pHFBOVMTGKIt",
        "outputId": "53e5f120-3341-4bbd-e556-21e16b43f560"
      },
      "outputs": [
        {
          "name": "stdout",
          "output_type": "stream",
          "text": [
            "enter a number:9\n",
            "enter a number:3\n",
            "enter a number:1\n",
            "9 is the greater\n"
          ]
        }
      ],
      "source": [
        "#Biggest number among three numbers\n",
        "a=int(input(\"enter a number:\"))\n",
        "b=int(input(\"enter a number:\"))\n",
        "c=int(input(\"enter a number:\"))\n",
        "if(a>b and a>c):\n",
        "  print(a,\"is the greater\")\n",
        "elif(b>a and b>c):\n",
        "  print(b,\"is greater\")\n",
        "else:\n",
        "  print(c,\"is the greater\")"
      ]
    },
    {
      "cell_type": "code",
      "execution_count": null,
      "metadata": {
        "colab": {
          "base_uri": "https://localhost:8080/"
        },
        "id": "wlBCOSOGGwZS",
        "outputId": "8526a450-8390-4f6b-b0de-7fa4bf2bd69e"
      },
      "outputs": [
        {
          "name": "stdout",
          "output_type": "stream",
          "text": [
            "enter a number to check:-9\n",
            "the number is negative\n"
          ]
        }
      ],
      "source": [
        "#check whether a number positive,negative or zero\n",
        "n=int(input(\"enter a number to check:\"))\n",
        "if n==0:\n",
        "  print(\"the number is zero \")\n",
        "elif n<0:\n",
        "  print(\"the number is negative\")\n",
        "else:\n",
        "  print(\"the number is positive\")"
      ]
    },
    {
      "cell_type": "code",
      "execution_count": null,
      "metadata": {
        "colab": {
          "base_uri": "https://localhost:8080/"
        },
        "id": "1y55MvUwID0H",
        "outputId": "8bb057a1-54e6-4ca0-dd42-46bea04e0c1f"
      },
      "outputs": [
        {
          "name": "stdout",
          "output_type": "stream",
          "text": [
            "enter a number to check:99\n",
            "99 is two digit number\n"
          ]
        }
      ],
      "source": [
        "#check whether a number is two digit or not\n",
        "n=int(input(\"enter a number to check:\"))\n",
        "if n>9 and n<100:\n",
        "  print(n,\"is two digit number\")\n",
        "else:\n",
        "  print(n,\"is not a two digit number\")"
      ]
    },
    {
      "cell_type": "code",
      "execution_count": null,
      "metadata": {
        "colab": {
          "base_uri": "https://localhost:8080/"
        },
        "id": "peN4sV3DIdSp",
        "outputId": "126e2bb3-dc6e-4849-c883-a4988018f4e7"
      },
      "outputs": [
        {
          "name": "stdout",
          "output_type": "stream",
          "text": [
            "enter a number:1\n",
            "enter a number:3\n",
            "enter a number:9\n",
            "1 is the smallest\n"
          ]
        }
      ],
      "source": [
        "#smallest number among three numbers\n",
        "a=int(input(\"enter a number:\"))\n",
        "b=int(input(\"enter a number:\"))\n",
        "c=int(input(\"enter a number:\"))\n",
        "if(a<b and a<c):\n",
        "  print(a,\"is the smallest\")\n",
        "elif(b<a and b<c):\n",
        "  print(b,\"is smallest\")\n",
        "else:\n",
        "  print(c,\"is the smallest\")"
      ]
    },
    {
      "cell_type": "code",
      "execution_count": null,
      "metadata": {
        "colab": {
          "base_uri": "https://localhost:8080/"
        },
        "id": "G9n7b-U4I4ii",
        "outputId": "e155af63-4131-4cfb-9d03-810f312569c1"
      },
      "outputs": [
        {
          "name": "stdout",
          "output_type": "stream",
          "text": [
            "enter a two digit number: 98\n",
            "8 is small\n"
          ]
        }
      ],
      "source": [
        "#smallest number in a two digit number\n",
        "n=int(input(\"enter a two digit number: \"))\n",
        "if (n<10 and n>99):\n",
        "  print(\"it not a two digit number \")\n",
        "else:\n",
        "  x1=int(n%10)\n",
        "  n=n/10\n",
        "  x2=int(n%10)\n",
        "  if x1>x2:\n",
        "    print(x2,\"is small\")\n",
        "  else:\n",
        "    print(x1,\"is small\")"
      ]
    },
    {
      "cell_type": "code",
      "execution_count": null,
      "metadata": {
        "colab": {
          "base_uri": "https://localhost:8080/"
        },
        "id": "b_aVkZJdekTK",
        "outputId": "6b2eb42b-5d18-465c-d26d-3c3399b2165c"
      },
      "outputs": [
        {
          "output_type": "stream",
          "name": "stdout",
          "text": [
            "enter first point:-4\n",
            "enter second point:-6\n",
            "distance= 2\n"
          ]
        }
      ],
      "source": [
        "#Distance between two points on a number line\n",
        "n1=int(input(\"enter first point:\"))\n",
        "n2=int(input(\"enter second point:\"))\n",
        "dis = n2-n1\n",
        "if dis<0:\n",
        "  dis = -1*dis\n",
        "  print(\"distance=\",dis)\n",
        "else:\n",
        "  print(\"distance=\",dis)\n"
      ]
    },
    {
      "cell_type": "code",
      "execution_count": null,
      "metadata": {
        "id": "J2P6qKK7i3t7",
        "colab": {
          "base_uri": "https://localhost:8080/"
        },
        "outputId": "10026433-4f3a-4759-8d21-120be02bf7e7"
      },
      "outputs": [
        {
          "output_type": "stream",
          "name": "stdout",
          "text": [
            "enter the quoficient of x^2= 4\n",
            "enter the quoficient of x= 6\n",
            "enter the quoficient of 1= 9\n",
            "this quodratic equation have 2 imaginary solutions\n"
          ]
        }
      ],
      "source": [
        "#Nature of solution of quadratic equations\n",
        "a=int(input(\"enter the quoficient of x^2= \"))\n",
        "b=int(input(\"enter the quoficient of x= \"))\n",
        "c=int(input(\"enter the quoficient of 1= \"))\n",
        "d=(b*b)-4*a*c\n",
        "if (d>0):\n",
        "  print(\"this quodratic equation have 2 real solutions\")\n",
        "elif (d==0):\n",
        "   print(\"this quodratic equation have 1 real solutions\")\n",
        "else:\n",
        "   print(\"this quodratic equation have 2 imaginary solutions\")\n"
      ]
    }
  ],
  "metadata": {
    "colab": {
      "provenance": [],
      "authorship_tag": "ABX9TyPGes8c/DM4mdPFYu8S9+xY",
      "include_colab_link": true
    },
    "kernelspec": {
      "display_name": "Python 3",
      "name": "python3"
    },
    "language_info": {
      "name": "python"
    }
  },
  "nbformat": 4,
  "nbformat_minor": 0
}