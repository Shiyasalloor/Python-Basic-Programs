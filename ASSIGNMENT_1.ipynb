{
  "nbformat": 4,
  "nbformat_minor": 0,
  "metadata": {
    "colab": {
      "provenance": [],
      "authorship_tag": "ABX9TyOcbez8JJCcYE7JOuKHxq3f",
      "include_colab_link": true
    },
    "kernelspec": {
      "name": "python3",
      "display_name": "Python 3"
    },
    "language_info": {
      "name": "python"
    }
  },
  "cells": [
    {
      "cell_type": "markdown",
      "metadata": {
        "id": "view-in-github",
        "colab_type": "text"
      },
      "source": [
        "<a href=\"https://colab.research.google.com/github/Shiyasalloor/Python-Basic-Programs/blob/main/ASSIGNMENT_1.ipynb\" target=\"_parent\"><img src=\"https://colab.research.google.com/assets/colab-badge.svg\" alt=\"Open In Colab\"/></a>"
      ]
    },
    {
      "cell_type": "code",
      "execution_count": null,
      "metadata": {
        "colab": {
          "base_uri": "https://localhost:8080/"
        },
        "id": "oGRJ51hW750-",
        "outputId": "67d7cd51-b43a-40c5-e5df-29d1ce4c2a50"
      },
      "outputs": [
        {
          "output_type": "stream",
          "name": "stdout",
          "text": [
            "enter a side1\n",
            "enter a side2\n",
            "enter a side3\n",
            "perimetre= 6\n",
            "area= 0.0\n"
          ]
        }
      ],
      "source": [
        "#area and perimetre of triangle\n",
        "import math \n",
        "a=int(input(\"enter a side:\"))\n",
        "b=int(input(\"enter a side:\"))\n",
        "c=int(input(\"enter a side:\"))\n",
        "per=a+b+c\n",
        "s=per/2\n",
        "area= math.sqrt(s*(s-a)*(s-b)*(s-c))\n",
        "print(\"perimetre=\",per)\n",
        "print(\"area=\",area)\n",
        "\n"
      ]
    },
    {
      "cell_type": "code",
      "source": [
        "#area of circle\n",
        "r=int(input(\"enter the radias of the circle:\"))\n",
        "pi=3.17\n",
        "area=pi*r*r\n",
        "print(\"area of the circle=\",area)"
      ],
      "metadata": {
        "colab": {
          "base_uri": "https://localhost:8080/"
        },
        "id": "eZXymqjo-UCu",
        "outputId": "7b153183-cab6-4c49-cee8-487cf601cb1b"
      },
      "execution_count": null,
      "outputs": [
        {
          "output_type": "stream",
          "name": "stdout",
          "text": [
            "enter the radias of the circle:9\n",
            "area of the circle= 256.77\n"
          ]
        }
      ]
    },
    {
      "cell_type": "code",
      "source": [
        "#average of three nombers\n",
        "a=int(input(\"enter the nomber:\"))\n",
        "b=int(input(\"enter the nomber:\"))\n",
        "c=int(input(\"enter the nomber:\"))\n",
        "avg=(a+b+c)/3\n",
        "print(\"average=\",avg)"
      ],
      "metadata": {
        "colab": {
          "base_uri": "https://localhost:8080/"
        },
        "id": "_XgULH8G_mSV",
        "outputId": "8d7feec2-00f1-479d-89cb-1d0c677f13fd"
      },
      "execution_count": null,
      "outputs": [
        {
          "output_type": "stream",
          "name": "stdout",
          "text": [
            "enter the nomber9\n",
            "enter the nomber9\n",
            "enter the nomber9\n",
            "average= 9.0\n"
          ]
        }
      ]
    },
    {
      "cell_type": "code",
      "source": [
        "#convert days into year and month and days\n",
        "d=int(input(\"enter the number of days:\"))\n",
        "r=int(d/365)\n",
        "print(\"years=\",r)\n",
        "d=int(d%365)\n",
        "r=int(d/30)\n",
        "print(\"month=\",r)\n",
        "d=int(d%30)\n",
        "r=d\n",
        "print(\"days=\",r)"
      ],
      "metadata": {
        "colab": {
          "base_uri": "https://localhost:8080/"
        },
        "id": "1pOAfH8HAj5A",
        "outputId": "3ee626ea-89f0-4510-95bc-c92ddcf7714e"
      },
      "execution_count": null,
      "outputs": [
        {
          "output_type": "stream",
          "name": "stdout",
          "text": [
            "enter the number of days:999\n",
            "years= 2\n",
            "month= 8\n",
            "days= 29\n"
          ]
        }
      ]
    },
    {
      "cell_type": "code",
      "source": [
        "#convert seconds to hours and minutes and seconds\n",
        "s=int(input(\"enter the number of seconds:\"))\n",
        "r=int(s/3600)\n",
        "print(\"hours=\",r)\n",
        "d=int(s%3600)\n",
        "r=int(d/60)\n",
        "print(\"minutes=\",r)\n",
        "d=int(d%60)\n",
        "r=d\n",
        "print(\"seconds=\",r)"
      ],
      "metadata": {
        "colab": {
          "base_uri": "https://localhost:8080/"
        },
        "id": "xcRgXc3MBHgQ",
        "outputId": "cb7add61-4dde-46a2-f21e-d0ccd92a1cd1"
      },
      "execution_count": null,
      "outputs": [
        {
          "output_type": "stream",
          "name": "stdout",
          "text": [
            "enter the number of seconds:999\n",
            "hours= 0\n",
            "minutes= 16\n",
            "seconds= 39\n"
          ]
        }
      ]
    },
    {
      "cell_type": "code",
      "source": [
        "#swapping of two numbers\n",
        "a=int(input(\"a=\"))\n",
        "b=int(input(\"b=\"))\n",
        "c=a\n",
        "a=b\n",
        "b=c\n",
        "print(\"a=\",a)\n",
        "print(\"b=\",b)"
      ],
      "metadata": {
        "colab": {
          "base_uri": "https://localhost:8080/"
        },
        "id": "d1RHp0XKBSrZ",
        "outputId": "047cc24e-e6af-42e5-f33c-ac5930b6c53d"
      },
      "execution_count": null,
      "outputs": [
        {
          "output_type": "stream",
          "name": "stdout",
          "text": [
            "a=9\n",
            "b=3\n",
            "a= 3\n",
            "b= 9\n"
          ]
        }
      ]
    },
    {
      "cell_type": "code",
      "source": [
        "#sum and average of 3 nomber\n",
        "a=int(input(\"enter the nomber:\"))\n",
        "b=int(input(\"enter the nomber:\"))\n",
        "c=int(input(\"enter the nomber:\"))\n",
        "sum=a+b+c\n",
        "avg=sum/3\n",
        "print(\"sum = \",sum)\n",
        "print(\"average = \",avg)"
      ],
      "metadata": {
        "colab": {
          "base_uri": "https://localhost:8080/"
        },
        "id": "uun25dQ_BgNZ",
        "outputId": "fba9d53a-2abc-4b35-9b4e-3a68019b7913"
      },
      "execution_count": null,
      "outputs": [
        {
          "output_type": "stream",
          "name": "stdout",
          "text": [
            "enter the nomber:9\n",
            "enter the nomber:9\n",
            "enter the nomber:9\n",
            "sum =  27\n",
            "average =  9.0\n"
          ]
        }
      ]
    },
    {
      "cell_type": "code",
      "source": [
        "#Sum,Difference,Product,Quotient\n",
        "a=int(input(\"enter the nomber:\"))\n",
        "b=int(input(\"enter the nomber:\"))\n",
        "Sum=a+b\n",
        "Difference=a-b\n",
        "Product=a*b\n",
        "Quotient=a/b\n",
        "print(\"Sum=\",Sum)\n",
        "print(\"Difference=\",Difference)\n",
        "print(\"Product=\",Product)\n",
        "print(\"Quotient=\",Quotient)"
      ],
      "metadata": {
        "colab": {
          "base_uri": "https://localhost:8080/"
        },
        "id": "pwelSPQ8CoTS",
        "outputId": "c7e65f2b-f321-456a-a16f-382a1d449b33"
      },
      "execution_count": null,
      "outputs": [
        {
          "output_type": "stream",
          "name": "stdout",
          "text": [
            "enter the nomber:3\n",
            "enter the nomber:9\n",
            "Sum= 12\n",
            "Difference= -6\n",
            "Product= 27\n",
            "Quotient= 0.3333333333333333\n"
          ]
        }
      ]
    }
  ]
}