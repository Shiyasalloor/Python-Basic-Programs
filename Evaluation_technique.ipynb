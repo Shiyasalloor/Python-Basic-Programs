{
  "nbformat": 4,
  "nbformat_minor": 0,
  "metadata": {
    "colab": {
      "provenance": [],
      "authorship_tag": "ABX9TyPQwYuBLNE7Ua2Pi7ZNuZd8",
      "include_colab_link": true
    },
    "kernelspec": {
      "name": "python3",
      "display_name": "Python 3"
    },
    "language_info": {
      "name": "python"
    }
  },
  "cells": [
    {
      "cell_type": "markdown",
      "metadata": {
        "id": "view-in-github",
        "colab_type": "text"
      },
      "source": [
        "<a href=\"https://colab.research.google.com/github/Shiyasalloor/Python-Basic-Programs/blob/main/Evaluation_technique.ipynb\" target=\"_parent\"><img src=\"https://colab.research.google.com/assets/colab-badge.svg\" alt=\"Open In Colab\"/></a>"
      ]
    },
    {
      "cell_type": "code",
      "execution_count": 1,
      "metadata": {
        "id": "l4uPi5Cy2AuI"
      },
      "outputs": [],
      "source": [
        "import numpy as np\n",
        "\n",
        "# Sample dataset (Replace this with your own data)\n",
        "np.random.seed(0)\n",
        "X = np.random.rand(100, 3)  # 100 samples, 3 features\n",
        "y = 3.5 * X[:, 0] + 2.3 * X[:, 1] + 5.1 * X[:, 2] + np.random.randn(100)  # True model with some noise\n"
      ]
    },
    {
      "cell_type": "code",
      "source": [
        "class LinearRegressionScratch:\n",
        "    def __init__(self):\n",
        "        self.coefficients = None\n",
        "\n",
        "    def fit(self, X, y):\n",
        "        # Adding intercept term\n",
        "        X = np.c_[np.ones(X.shape[0]), X]\n",
        "        # Calculating coefficients using the Normal Equation\n",
        "        self.coefficients = np.linalg.inv(X.T @ X) @ X.T @ y\n",
        "\n",
        "    def predict(self, X):\n",
        "        # Adding intercept term\n",
        "        X = np.c_[np.ones(X.shape[0]), X]\n",
        "        return X @ self.coefficients\n",
        "\n",
        "# Train the model\n",
        "model = LinearRegressionScratch()\n",
        "model.fit(X, y)\n",
        "y_pred = model.predict(X)\n"
      ],
      "metadata": {
        "id": "-45Edx5t2Trf"
      },
      "execution_count": 2,
      "outputs": []
    },
    {
      "cell_type": "code",
      "source": [
        "def r_squared(y, y_pred):\n",
        "    ss_total = np.sum((y - np.mean(y))**2)\n",
        "    ss_residual = np.sum((y - y_pred)**2)\n",
        "    return 1 - (ss_residual / ss_total)\n",
        "\n",
        "r2 = r_squared(y, y_pred)\n",
        "print(\"R^2:\", r2)\n"
      ],
      "metadata": {
        "colab": {
          "base_uri": "https://localhost:8080/"
        },
        "id": "Zf1nNUJO2YAM",
        "outputId": "858533f9-ef2d-42c9-8885-8ec01dca0bc0"
      },
      "execution_count": 3,
      "outputs": [
        {
          "output_type": "stream",
          "name": "stdout",
          "text": [
            "R^2: 0.8135246643222415\n"
          ]
        }
      ]
    },
    {
      "cell_type": "code",
      "source": [
        "def mallows_cp(y, y_pred, p):\n",
        "    n = len(y)\n",
        "    sse = np.sum((y - y_pred) ** 2)\n",
        "    sigma_squared = sse / (n - p - 1)\n",
        "    return sse / sigma_squared - (n - 2 * p)\n",
        "\n",
        "p = X.shape[1]  # Number of features\n",
        "cp = mallows_cp(y, y_pred, p)\n",
        "print(\"Mallows' Cp:\", cp)\n"
      ],
      "metadata": {
        "colab": {
          "base_uri": "https://localhost:8080/"
        },
        "id": "lv5hnLQQ2eQl",
        "outputId": "c244444a-ae42-4aaf-c035-69727d7f01bf"
      },
      "execution_count": 4,
      "outputs": [
        {
          "output_type": "stream",
          "name": "stdout",
          "text": [
            "Mallows' Cp: 2.0\n"
          ]
        }
      ]
    },
    {
      "cell_type": "code",
      "source": [
        "def aic(y, y_pred, p):\n",
        "    n = len(y)\n",
        "    sse = np.sum((y - y_pred) ** 2)\n",
        "    return n * np.log(sse / n) + 2 * (p + 1)\n",
        "\n",
        "aic_value = aic(y, y_pred, p)\n",
        "print(\"AIC:\", aic_value)\n"
      ],
      "metadata": {
        "colab": {
          "base_uri": "https://localhost:8080/"
        },
        "id": "a_irdvVW2fcw",
        "outputId": "a6aac355-5113-4613-d4cc-e4d3d89cd019"
      },
      "execution_count": 5,
      "outputs": [
        {
          "output_type": "stream",
          "name": "stdout",
          "text": [
            "AIC: -6.50772886984203\n"
          ]
        }
      ]
    },
    {
      "cell_type": "code",
      "source": [
        "def bic(y, y_pred, p):\n",
        "    n = len(y)\n",
        "    sse = np.sum((y - y_pred) ** 2)\n",
        "    return n * np.log(sse / n) + (p + 1) * np.log(n)\n",
        "\n",
        "bic_value = bic(y, y_pred, p)\n",
        "print(\"BIC:\", bic_value)\n"
      ],
      "metadata": {
        "colab": {
          "base_uri": "https://localhost:8080/"
        },
        "id": "tGHsDoUv2idc",
        "outputId": "e9ecbd85-dcd8-40e1-ef66-0a071f3b90cb"
      },
      "execution_count": 6,
      "outputs": [
        {
          "output_type": "stream",
          "name": "stdout",
          "text": [
            "BIC: 3.9129518741103375\n"
          ]
        }
      ]
    }
  ]
}